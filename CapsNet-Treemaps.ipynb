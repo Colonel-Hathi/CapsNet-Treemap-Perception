{
 "cells": [
  {
   "cell_type": "markdown",
   "metadata": {},
   "source": [
    "# Capsule Network for Graphical Perception of Treemaps"
   ]
  },
  {
   "cell_type": "markdown",
   "metadata": {},
   "source": [
    "### Requirements"
   ]
  },
  {
   "cell_type": "markdown",
   "metadata": {},
   "source": [
    "*Python and extensions*\n",
    "- **Python**: 3.7\n",
    "- **Tensorflow**: 1.15.0\n",
    "- **Numpy**: 1.18.3\n",
    "- **docopt**: 0.6.2\n",
    "- **sklearn**: 0.22.2\n",
    "- **Matplotlib**: 3.2.1"
   ]
  },
  {
   "cell_type": "markdown",
   "metadata": {},
   "source": [
    "*GPU libraries*\n",
    "- **Nvidia cuDNN**: 7.4\n",
    "- **Nvidia CUDA**: 10.0"
   ]
  },
  {
   "cell_type": "markdown",
   "metadata": {},
   "source": [
    "## Model architecture"
   ]
  },
  {
   "cell_type": "markdown",
   "metadata": {},
   "source": []
  },
  {
   "cell_type": "markdown",
   "metadata": {},
   "source": [
    "## Class structure"
   ]
  },
  {
   "cell_type": "markdown",
   "metadata": {},
   "source": []
  },
  {
   "cell_type": "markdown",
   "metadata": {},
   "source": [
    "## Directory guide"
   ]
  },
  {
   "cell_type": "markdown",
   "metadata": {},
   "source": [
    "The following directories are present in the repository: <br>\n",
    "| Project root <br>\n",
    "*All python classes for training and testing the network are stored in root folder*\n",
    "|-> dataset <br>\n",
    "|--> experiments<br>\n",
    "*empty folders, standard path to dataset. Experiment-data contains one individual folder for each experiment, which contain one folder for each variable value* <br>\n",
    "|-> outputs <br>\n",
    "|--> checkpoints <br>\n",
    "*Standard path used to store training checkpoints for the model* <br>\n",
    "|--> tensorboard <br>\n",
    "*Standard path to store tensorboard files for the model* <br>\n",
    "|-> settings <br>\n",
    "*Folder containing the hypterparameters in json format* <br>\n",
    "|-> testresults <br>\n",
    "*Standard path to store test results in csv files, one for each experiment directory.* <br>"
   ]
  },
  {
   "cell_type": "markdown",
   "metadata": {},
   "source": [
    "## Running experiments"
   ]
  },
  {
   "cell_type": "markdown",
   "metadata": {},
   "source": [
    "### Dataset"
   ]
  },
  {
   "cell_type": "markdown",
   "metadata": {},
   "source": [
    "The dataset can be downloaded from the following link: <br>\n",
    "https://www.filehosting.org/file/details/869843/treemap-dataset.zip"
   ]
  },
  {
   "cell_type": "markdown",
   "metadata": {},
   "source": [
    "### Run script"
   ]
  },
  {
   "cell_type": "markdown",
   "metadata": {},
   "source": []
  }
 ],
 "metadata": {
  "kernelspec": {
   "display_name": "Python 2",
   "language": "python",
   "name": "python2"
  },
  "language_info": {
   "codemirror_mode": {
    "name": "ipython",
    "version": 2
   },
   "file_extension": ".py",
   "mimetype": "text/x-python",
   "name": "python",
   "nbconvert_exporter": "python",
   "pygments_lexer": "ipython2",
   "version": "2.7.16"
  }
 },
 "nbformat": 4,
 "nbformat_minor": 4
}
